{
 "cells": [
  {
   "cell_type": "code",
   "execution_count": 9,
   "id": "b0421aee-db43-4d83-a76a-670ef0771d1b",
   "metadata": {},
   "outputs": [
    {
     "name": "stdout",
     "output_type": "stream",
     "text": [
      "  Country/Territory IMF (2025)[1][6] World Bank (2022–24)[7]  \\\n",
      "0             World        113795678               111326370   \n",
      "1     United States         30507217                29184890   \n",
      "2   China[n 1][n 3]         19231705                18743803   \n",
      "3           Germany          4744804                 4659929   \n",
      "4             India          4187017                 3912686   \n",
      "\n",
      "  United Nations (2023)[8]  \n",
      "0                100834796  \n",
      "1                 27720700  \n",
      "2                 17794782  \n",
      "3                  4525704  \n",
      "4                  3575778  \n",
      "<class 'pandas.core.frame.DataFrame'>\n",
      "RangeIndex: 222 entries, 0 to 221\n",
      "Data columns (total 4 columns):\n",
      " #   Column                    Non-Null Count  Dtype \n",
      "---  ------                    --------------  ----- \n",
      " 0   Country/Territory         222 non-null    object\n",
      " 1   IMF (2025)[1][6]          222 non-null    object\n",
      " 2   World Bank (2022–24)[7]   222 non-null    object\n",
      " 3   United Nations (2023)[8]  222 non-null    object\n",
      "dtypes: object(4)\n",
      "memory usage: 7.1+ KB\n"
     ]
    },
    {
     "name": "stderr",
     "output_type": "stream",
     "text": [
      "/tmp/ipykernel_132/1120044934.py:22: FutureWarning: Passing literal html to 'read_html' is deprecated and will be removed in a future version. To read from a literal string, wrap it in a 'StringIO' object.\n",
      "  df = pd.read_html(str(table))[0]\n"
     ]
    }
   ],
   "source": [
    "import requests\n",
    "import pandas as pd\n",
    "from bs4 import BeautifulSoup\n",
    "\n",
    "\n",
    "url = \"https://en.wikipedia.org/wiki/List_of_countries_by_GDP_(nominal)#Table\"\n",
    "\n",
    "# Use headers to pretend we are a browser\n",
    "headers = {\"User-Agent\": \"Mozilla/5.0 (Windows NT 10.0; Win64; x64)\"}\n",
    "\n",
    "# Fetch page\n",
    "response = requests.get(url, headers=headers)\n",
    "response.raise_for_status()\n",
    "\n",
    "# Parse with BeautifulSoup\n",
    "soup = BeautifulSoup(response.text, \"html.parser\")\n",
    "\n",
    "# Find the first table with class 'wikitable'\n",
    "table = soup.find(\"table\", {\"class\": \"wikitable\"})\n",
    "\n",
    "# Convert to DataFrame\n",
    "df = pd.read_html(str(table))[0]\n",
    "\n",
    "print(df.head())\n",
    "df.info()"
   ]
  },
  {
   "cell_type": "code",
   "execution_count": 10,
   "id": "4dda7ddb-bb6f-4f85-885e-bf0365a18683",
   "metadata": {},
   "outputs": [
    {
     "name": "stdout",
     "output_type": "stream",
     "text": [
      "<class 'pandas.core.frame.DataFrame'>\n",
      "RangeIndex: 222 entries, 0 to 221\n",
      "Data columns (total 4 columns):\n",
      " #   Column          Non-Null Count  Dtype \n",
      "---  ------          --------------  ----- \n",
      " 0   Country         222 non-null    object\n",
      " 1   IMF             222 non-null    object\n",
      " 2   World Bank      222 non-null    object\n",
      " 3   United Nations  222 non-null    object\n",
      "dtypes: object(4)\n",
      "memory usage: 7.1+ KB\n"
     ]
    }
   ],
   "source": [
    "df = df.rename(columns={\"Country/Territory\": \"Country\", \"IMF (2025)[1][6]\": \"IMF\", \"World Bank (2022–24)[7]\": \"World Bank\", \"United Nations (2023)[8]\": \"United Nations\"})\n",
    "df.info()"
   ]
  },
  {
   "cell_type": "code",
   "execution_count": 11,
   "id": "f21662c8-5571-48ed-a9a8-9e9c1ab3ab15",
   "metadata": {},
   "outputs": [
    {
     "name": "stdout",
     "output_type": "stream",
     "text": [
      "Country            object\n",
      "IMF               float64\n",
      "World Bank        float64\n",
      "United Nations    float64\n",
      "dtype: object\n"
     ]
    }
   ],
   "source": [
    "# clean and convert IMF, World Bank, United Nations to float64\n",
    "\n",
    "for col in [\"IMF\", \"World Bank\", \"United Nations\"]:\n",
    "    df[col] = (\n",
    "        df[col]\n",
    "        .astype(str)                        # make sure they're strings\n",
    "        .str.replace(\",\", \"\", regex=False)  # remove commas\n",
    "        .str.replace(\" \", \"\", regex=False)  # remove spaces\n",
    "        .str.replace(\"−\", \"-\", regex=False) # fix special minus sign\n",
    "        .str.replace(\"—\", \"\", regex=False)  # replace em dash with empty\n",
    "    )\n",
    "\n",
    "    # convert to numeric (invalid strings become NaN)\n",
    "    df[col] = pd.to_numeric(df[col], errors=\"coerce\").astype(\"float64\")\n",
    "\n",
    "print(df.dtypes)"
   ]
  },
  {
   "cell_type": "code",
   "execution_count": 12,
   "id": "c7d966dd-343d-48bf-ba03-44aac3f53906",
   "metadata": {},
   "outputs": [
    {
     "data": {
      "text/html": [
       "<div>\n",
       "<style scoped>\n",
       "    .dataframe tbody tr th:only-of-type {\n",
       "        vertical-align: middle;\n",
       "    }\n",
       "\n",
       "    .dataframe tbody tr th {\n",
       "        vertical-align: top;\n",
       "    }\n",
       "\n",
       "    .dataframe thead th {\n",
       "        text-align: right;\n",
       "    }\n",
       "</style>\n",
       "<table border=\"1\" class=\"dataframe\">\n",
       "  <thead>\n",
       "    <tr style=\"text-align: right;\">\n",
       "      <th></th>\n",
       "      <th>Country</th>\n",
       "      <th>IMF</th>\n",
       "      <th>World Bank</th>\n",
       "      <th>United Nations</th>\n",
       "    </tr>\n",
       "  </thead>\n",
       "  <tbody>\n",
       "    <tr>\n",
       "      <th>0</th>\n",
       "      <td>World</td>\n",
       "      <td>113795678.0</td>\n",
       "      <td>111326370.0</td>\n",
       "      <td>100834796.0</td>\n",
       "    </tr>\n",
       "    <tr>\n",
       "      <th>1</th>\n",
       "      <td>United States</td>\n",
       "      <td>30507217.0</td>\n",
       "      <td>29184890.0</td>\n",
       "      <td>27720700.0</td>\n",
       "    </tr>\n",
       "    <tr>\n",
       "      <th>2</th>\n",
       "      <td>China[n 1][n 3]</td>\n",
       "      <td>19231705.0</td>\n",
       "      <td>18743803.0</td>\n",
       "      <td>17794782.0</td>\n",
       "    </tr>\n",
       "    <tr>\n",
       "      <th>3</th>\n",
       "      <td>Germany</td>\n",
       "      <td>4744804.0</td>\n",
       "      <td>4659929.0</td>\n",
       "      <td>4525704.0</td>\n",
       "    </tr>\n",
       "    <tr>\n",
       "      <th>4</th>\n",
       "      <td>India</td>\n",
       "      <td>4187017.0</td>\n",
       "      <td>3912686.0</td>\n",
       "      <td>3575778.0</td>\n",
       "    </tr>\n",
       "  </tbody>\n",
       "</table>\n",
       "</div>"
      ],
      "text/plain": [
       "           Country          IMF   World Bank  United Nations\n",
       "0            World  113795678.0  111326370.0     100834796.0\n",
       "1    United States   30507217.0   29184890.0      27720700.0\n",
       "2  China[n 1][n 3]   19231705.0   18743803.0      17794782.0\n",
       "3          Germany    4744804.0    4659929.0       4525704.0\n",
       "4            India    4187017.0    3912686.0       3575778.0"
      ]
     },
     "execution_count": 12,
     "metadata": {},
     "output_type": "execute_result"
    }
   ],
   "source": [
    "df.head()\n"
   ]
  },
  {
   "cell_type": "code",
   "execution_count": 14,
   "id": "8bdd1c3e-6c04-4e4c-b2b5-17e676d0910b",
   "metadata": {},
   "outputs": [],
   "source": [
    "# calculate row-wise mean (ignoring NaN)\n",
    "row_means = df[[\"IMF\", \"World Bank\", \"United Nations\"]].mean(axis=1, skipna=True)\n",
    "\n",
    "# fill NaN in each column with the row mean\n",
    "for col in [\"IMF\", \"World Bank\", \"United Nations\"]:\n",
    "    df[col] = df[col].fillna(row_means)\n",
    "    df.loc["
   ]
  },
  {
   "cell_type": "code",
   "execution_count": 15,
   "id": "308a0124-cb5a-432a-a928-94db09b20a00",
   "metadata": {},
   "outputs": [
    {
     "data": {
      "image/png": "[encoded data removed]",
      "text/plain": [
       "<Figure size 1000x600 with 1 Axes>"
      ]
     },
     "metadata": {},
     "output_type": "display_data"
    }
   ],
   "source": [
    "# A grouped bar chart to compare IMF, World Bank, and UN GDP values for the top 5 countries.\n",
    "\n",
    "import matplotlib.pyplot as plt\n",
    "\n",
    "# exclude the row where Country == \"World\"\n",
    "df_clean = df[df[\"Country\"] != \"World\"]\n",
    "\n",
    "# sort by IMF (or another column) and pick top 5\n",
    "top5 = df_clean.sort_values(by=\"IMF\", ascending=False).head(5)\n",
    "\n",
    "# set country names as index\n",
    "top5 = top5.set_index(\"Country\")\n",
    "\n",
    "# select only numeric columns\n",
    "top5_values = top5[[\"IMF\", \"World Bank\", \"United Nations\"]]\n",
    "\n",
    "# plot grouped bar chart\n",
    "ax = top5_values.plot(kind=\"bar\", figsize=(10, 6))\n",
    "\n",
    "plt.title(\"Top 5 Countries by GDP (Comparison across IMF, World Bank, UN)\")\n",
    "plt.xlabel(\"Country\")\n",
    "plt.ylabel(\"GDP (in millions USD)\")\n",
    "plt.xticks(rotation=45)\n",
    "plt.legend(title=\"Source\")\n",
    "plt.tight_layout()\n",
    "plt.show()"
   ]
  },
  {
   "cell_type": "code",
   "execution_count": null,
   "id": "9728f9a8-e8af-45b5-88a8-1e079a97a2c7",
   "metadata": {},
   "outputs": [],
   "source": []
  }
 ],
 "metadata": {
  "kernelspec": {
   "display_name": "anaconda-ai-2024.04-py310",
   "language": "python",
   "name": "conda-env-anaconda-ai-2024.04-py310-py"
  },
  "language_info": {
   "codemirror_mode": {
    "name": "ipython",
    "version": 3
   },
   "file_extension": ".py",
   "mimetype": "text/x-python",
   "name": "python",
   "nbconvert_exporter": "python",
   "pygments_lexer": "ipython3",
   "version": "3.10.13"
  }
 },
 "nbformat": 4,
 "nbformat_minor": 5
}
